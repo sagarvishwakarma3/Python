{
 "cells": [
  {
   "cell_type": "markdown",
   "id": "51101df7-fcde-44e1-b794-b60672cc49e2",
   "metadata": {},
   "source": [
    "## Class Question"
   ]
  },
  {
   "cell_type": "markdown",
   "id": "c6049d84-cdd9-4e83-939f-5bc79c48a5b8",
   "metadata": {},
   "source": [
    "### Q - Write a function to multiple 3 no and returns its result without lambda with lambda"
   ]
  },
  {
   "cell_type": "code",
   "execution_count": 1,
   "id": "0ec105f3-59ef-4291-a174-fc49981b3db8",
   "metadata": {},
   "outputs": [
    {
     "data": {
      "text/plain": [
       "60"
      ]
     },
     "execution_count": 1,
     "metadata": {},
     "output_type": "execute_result"
    }
   ],
   "source": [
    "def multiply_of_three_variable(a , b ,c):\n",
    "    return (a*b*c)\n",
    "multiply_of_three_variable( 5, 6 ,2)"
   ]
  },
  {
   "cell_type": "markdown",
   "id": "cba05d2d-04c8-44a5-b380-191e276e937f",
   "metadata": {},
   "source": [
    "### Q- Write a function to multiple 3 no and returns its result with lambda"
   ]
  },
  {
   "cell_type": "code",
   "execution_count": 3,
   "id": "159abe79-6295-401e-aaf4-02ed6c22455b",
   "metadata": {},
   "outputs": [
    {
     "name": "stdout",
     "output_type": "stream",
     "text": [
      "60\n"
     ]
    }
   ],
   "source": [
    "multiply_of_three_variable = lambda a, b ,c: a*b*c\n",
    "print(multiply_of_three_variable(5,6,2))"
   ]
  }
 ],
 "metadata": {
  "kernelspec": {
   "display_name": "Python 3 (ipykernel)",
   "language": "python",
   "name": "python3"
  },
  "language_info": {
   "codemirror_mode": {
    "name": "ipython",
    "version": 3
   },
   "file_extension": ".py",
   "mimetype": "text/x-python",
   "name": "python",
   "nbconvert_exporter": "python",
   "pygments_lexer": "ipython3",
   "version": "3.12.5"
  }
 },
 "nbformat": 4,
 "nbformat_minor": 5
}
