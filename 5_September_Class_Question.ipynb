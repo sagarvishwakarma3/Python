{
 "cells": [
  {
   "cell_type": "markdown",
   "id": "f8ee0251-4cad-428f-9c85-f016b6b5ee9d",
   "metadata": {},
   "source": [
    "# Class Question "
   ]
  },
  {
   "cell_type": "markdown",
   "id": "3aaf96c3-9e22-4716-a3e9-e7f2085e984e",
   "metadata": {},
   "source": [
    "### Q - Write a Python program with two functions: one to get a list of integer inputs from the user and another to display the data entered by the user. The first function ensures that all inputs are integers, you can ask from user how many value enter"
   ]
  },
  {
   "cell_type": "code",
   "execution_count": 7,
   "id": "d0c38faa-5ca3-488f-b055-c66dba353460",
   "metadata": {},
   "outputs": [
    {
     "name": "stdin",
     "output_type": "stream",
     "text": [
      "No of values:-   2\n",
      "values 1:-   3\n",
      "values 2:-   4\n"
     ]
    },
    {
     "name": "stdout",
     "output_type": "stream",
     "text": [
      "list:-  ['3', '4']\n"
     ]
    }
   ],
   "source": [
    "\n",
    "def Input_list(): # here funtion is created \n",
    "    user_list = [] #empty list\n",
    "    n = int(input(\"No of values:-  \"))\n",
    "    for i in range(n):# for no of values entered by the user \n",
    "        value = input(f\"values {i+1}:-  \")\n",
    "        user_list.append(value)\n",
    "    return user_list\n",
    "\n",
    "def display(user_list):# here display funtion is created for displaying the list\n",
    "    print(\"list:- \", user_list)\n",
    "\n",
    "user_list = Input_list() #funtion for the input_list will be run here.\n",
    "display(user_list) # Displaying the list"
   ]
  },
  {
   "cell_type": "markdown",
   "id": "1cb43ed3-ba2d-4c5a-b171-1141970b2b3e",
   "metadata": {},
   "source": [
    "### Q - Write a function that takes input argument the input argument should be a list of numbers this function computes the sum average, minimum, maximum and cumulative sum and return these values now use this function. take input from the user,compute the sum average minimum, maximum , cumulative Sum"
   ]
  },
  {
   "cell_type": "code",
   "execution_count": 12,
   "id": "54929cec-49e8-408c-a36e-d5f531bd6d9d",
   "metadata": {},
   "outputs": [
    {
     "name": "stdin",
     "output_type": "stream",
     "text": [
      "No of values:  3\n",
      "Value 1:  1\n",
      "Value 2:  2\n",
      "Value 3:  3\n"
     ]
    },
    {
     "name": "stdout",
     "output_type": "stream",
     "text": [
      "List: [1.0, 2.0, 3.0]\n",
      "Sum: 6.0\n",
      "Average: 2.0\n",
      "Minimum: 1.0\n",
      "Maximum: 3.0\n",
      "Cumulative Sum: [1.0, 3.0, 6.0]\n"
     ]
    }
   ],
   "source": [
    "\n",
    "def Input_list():# here funtion is created \n",
    "    user_list = [] #empty list\n",
    "    n = int(input(\"No of values: \"))\n",
    "    for i in range(n):  # for the number of values entered by the user\n",
    "        value = float(input(f\"Value {i+1}: \"))  # Using float for numeric calculations\n",
    "        user_list.append(value)\n",
    "    return user_list\n",
    "\n",
    "\n",
    "def display(user_list):# here display funtion is created for displaying the list\n",
    "    print(\"List:\", user_list)\n",
    "\n",
    "# Function to calculate sum, average, minimum, maximum, and cumulative sum\n",
    "def calculate(user_list):\n",
    "    total_sum = sum(user_list)\n",
    "    avg = total_sum / len(user_list) if len(user_list) > 0 else 0\n",
    "    minimum = min(user_list)\n",
    "    maximum = max(user_list)\n",
    "    \n",
    "    # Cumulative sum calculation\n",
    "    cumulative_sum = []\n",
    "    current_sum = 0\n",
    "    for num in user_list:\n",
    "        current_sum += num\n",
    "        cumulative_sum.append(current_sum)\n",
    "    \n",
    "    # Displaying results\n",
    "    print(f\"Sum: {total_sum}\")\n",
    "    print(f\"Average: {avg}\")\n",
    "    print(f\"Minimum: {minimum}\")\n",
    "    print(f\"Maximum: {maximum}\")\n",
    "    print(f\"Cumulative Sum: {cumulative_sum}\")\n",
    "\n",
    "# Main part of the program\n",
    "user_list = Input_list()  # Get the list from the user\n",
    "display(user_list)        # Display the list\n",
    "calculate(user_list)      # Perform calculations and display results\n"
   ]
  },
  {
   "cell_type": "code",
   "execution_count": null,
   "id": "8ee4413a-773c-4c1c-9ea3-721361fd0aa9",
   "metadata": {},
   "outputs": [],
   "source": []
  }
 ],
 "metadata": {
  "kernelspec": {
   "display_name": "Python 3 (ipykernel)",
   "language": "python",
   "name": "python3"
  },
  "language_info": {
   "codemirror_mode": {
    "name": "ipython",
    "version": 3
   },
   "file_extension": ".py",
   "mimetype": "text/x-python",
   "name": "python",
   "nbconvert_exporter": "python",
   "pygments_lexer": "ipython3",
   "version": "3.12.5"
  }
 },
 "nbformat": 4,
 "nbformat_minor": 5
}
