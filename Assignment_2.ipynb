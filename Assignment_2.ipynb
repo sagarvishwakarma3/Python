{
 "cells": [
  {
   "cell_type": "markdown",
   "id": "06e69bc4-f15e-407c-b7a3-adafd05fafa9",
   "metadata": {},
   "source": [
    "# Python Assignment - 2 "
   ]
  },
  {
   "cell_type": "markdown",
   "id": "6a8c0920-108d-4e8a-8ca2-41700424f1ea",
   "metadata": {},
   "source": [
    "### Q- Write a function greet that takes two arguments: name (a string) and greeting (a string with a default value of \"Hello\"). The function should return a greeting message."
   ]
  },
  {
   "cell_type": "code",
   "execution_count": 2,
   "id": "a6e8d76d-08eb-475c-a070-c724047cd96d",
   "metadata": {},
   "outputs": [
    {
     "name": "stdout",
     "output_type": "stream",
     "text": [
      "Hey, Sagar\n",
      "Hello, Mr.sagar\n"
     ]
    }
   ],
   "source": [
    "def greet(name, greeting=\"Hey\"): \n",
    "    return f\"{greeting}, {name}\"\n",
    "\n",
    "print(greet(\"Sagar\"))          \n",
    "print(greet(\"Mr.sagar\", \"Hello\"))   "
   ]
  },
  {
   "cell_type": "markdown",
   "id": "d26e185e-6ef2-46fd-915f-4a6ded6185b0",
   "metadata": {},
   "source": [
    "### Q- Create a function create_profile that takes arguments for name, age, and city as named arguments. The function should return a string like \"Name: Alice, Age: 25, City: New York\". Ensure that the age argument has a default value of 18."
   ]
  },
  {
   "cell_type": "code",
   "execution_count": 3,
   "id": "a9d4af28-bf3e-413b-9caa-361890b166ce",
   "metadata": {},
   "outputs": [
    {
     "name": "stdout",
     "output_type": "stream",
     "text": [
      "Name: Sagar, Age: 23, City: Jhansi\n",
      "Name: Sagar Kumar, Age: 24, City: Prem Nagar\n"
     ]
    }
   ],
   "source": [
    "def create_profile(*, name, age=23, city): \n",
    "    return f\"Name: {name}, Age: {age}, City: {city}\"\n",
    "\n",
    "print(create_profile(name=\"Sagar\", city=\"Jhansi\"))    \n",
    "print(create_profile(name=\"Sagar Kumar\", age=24, city=\"Prem Nagar\")) "
   ]
  },
  {
   "cell_type": "markdown",
   "id": "9860e346-f6a5-4428-b0ea-b8e014c229b9",
   "metadata": {},
   "source": [
    "### Q- Write a function sum_numbers that takes any number of positional arguments (args) and keyword arguments (*kwargs). It should:\n",
    "### Return the sum of all *args if they are numbers.\n",
    "### Return a dictionary of all keyword arguments."
   ]
  },
  {
   "cell_type": "code",
   "execution_count": 3,
   "id": "728546ee-f546-4ab4-8a55-916c47584d3e",
   "metadata": {},
   "outputs": [
    {
     "name": "stdout",
     "output_type": "stream",
     "text": [
      "6\n",
      "(7, {'x': 2, 'y': 3})\n"
     ]
    }
   ],
   "source": [
    "def sum_numbers(*args, **kwargs):\n",
    "    # Sum positional arguments which are numbers \n",
    "    total = sum(arg for arg in args if isinstance(arg, (int, float)))\n",
    "    \n",
    "    #  return both the sum and the kwargs dictionary if there no keyword args\n",
    "    if kwargs:\n",
    "        return total, kwargs\n",
    "    # return just the sum if there are no any keyword args\n",
    "    return total\n",
    "\n",
    "print(sum_numbers(1, 2, 3))  \n",
    "print(sum_numbers(1, 3, 3, x=2, y=3)) "
   ]
  },
  {
   "cell_type": "markdown",
   "id": "7e729bc9-d612-449c-a6e5-b374e9251b45",
   "metadata": {},
   "source": [
    "### Q- Write a function that uses map and a lambda to return a list where each element is squared"
   ]
  },
  {
   "cell_type": "code",
   "execution_count": 11,
   "id": "aec80deb-7918-4809-b317-c98c3f636a20",
   "metadata": {},
   "outputs": [
    {
     "name": "stdout",
     "output_type": "stream",
     "text": [
      "[1, 4, 9, 16]\n"
     ]
    }
   ],
   "source": [
    "def sq_lst(nums): \n",
    "    return list(map(lambda n: n ** 2, nums))\n",
    "\n",
    "print(sq_lst([1, 2, 3, 4]))\n"
   ]
  },
  {
   "cell_type": "markdown",
   "id": "76f3aa5f-7935-46a8-8e9f-04f901e02243",
   "metadata": {},
   "source": [
    "### Q- Write a function that filters out all odd numbers from a list using filter and a lambda function"
   ]
  },
  {
   "cell_type": "code",
   "execution_count": 13,
   "id": "d83a1897-7ecd-4a38-81c6-ffb8d0a19d4d",
   "metadata": {},
   "outputs": [
    {
     "name": "stdout",
     "output_type": "stream",
     "text": [
      "[2, 4, 6]\n"
     ]
    }
   ],
   "source": [
    "def filt_even(nums):  \n",
    "    return list(filter(lambda n: n % 2 == 0, nums))\n",
    "\n",
    "print(filt_even([1, 2, 3, 4, 5, 6, 7]))"
   ]
  },
  {
   "cell_type": "markdown",
   "id": "c074bd2d-1b42-4b6f-8b24-550f6cdb24fa",
   "metadata": {},
   "source": [
    "### Q- Create a list comprehension that takes a list of numbers and returns a list of their squares"
   ]
  },
  {
   "cell_type": "code",
   "execution_count": 14,
   "id": "1ae011ff-411f-439e-a2b3-9f1ba0390d52",
   "metadata": {},
   "outputs": [
    {
     "name": "stdout",
     "output_type": "stream",
     "text": [
      "[1, 4, 9, 16, 25]\n"
     ]
    }
   ],
   "source": [
    "def sq_lst(nums): \n",
    "    return [n**2 for n in nums]\n",
    "\n",
    "print(sq_lst([1, 2, 3, 4, 5]))\n"
   ]
  },
  {
   "cell_type": "markdown",
   "id": "51a2aaf4-4925-4b40-9c6c-9b0b7fef9251",
   "metadata": {},
   "source": [
    "### Q- Use a list comprehension to create a list of even numbers from 1 to 20"
   ]
  },
  {
   "cell_type": "code",
   "execution_count": 15,
   "id": "1c98fe84-77f7-4f68-9409-ea235c4d68bc",
   "metadata": {},
   "outputs": [
    {
     "name": "stdout",
     "output_type": "stream",
     "text": [
      "[2, 4, 6, 8, 10, 12, 14, 16, 18, 20]\n"
     ]
    }
   ],
   "source": [
    "evens = [n for n in range(1, 21) if n % 2 == 0]\n",
    "print(evens)"
   ]
  },
  {
   "cell_type": "markdown",
   "id": "8d59d661-8eaf-480f-840b-807ffd20ef26",
   "metadata": {},
   "source": [
    "### Q- Write a function file_operations that creates a directory named \"test_folder\" using os.makedirs(). Then, pause the execution for 3 seconds using time.sleep(), and finally, delete the directory using os.rmdir()"
   ]
  },
  {
   "cell_type": "code",
   "execution_count": 16,
   "id": "cf86724d-b88e-4acf-9526-93d99e5bcdfd",
   "metadata": {},
   "outputs": [
    {
     "name": "stdout",
     "output_type": "stream",
     "text": [
      "Created 'test_folder'.\n",
      "Waited 3 seconds.\n",
      "Deleted 'test_folder'.\n"
     ]
    }
   ],
   "source": [
    "import os\n",
    "import time\n",
    "\n",
    "def file_ops():\n",
    "    # Create \"test_folder\" directory\n",
    "    os.makedirs(\"test_folder\", exist_ok=True)\n",
    "    print(\"Created 'test_folder'.\")\n",
    "\n",
    "    # Pause for 3 seconds\n",
    "    time.sleep(3)\n",
    "    print(\"Waited 3 seconds.\")\n",
    "\n",
    "    # Remove \"test_folder\" directory\n",
    "    os.rmdir(\"test_folder\")\n",
    "    print(\"Deleted 'test_folder'.\")\n",
    "\n",
    "file_ops()  # function call"
   ]
  },
  {
   "cell_type": "markdown",
   "id": "059c14d2-d869-4896-9280-7f3d58809e70",
   "metadata": {},
   "source": [
    "### Q- Write a Python script that imports only sleep from the time module and renames it to pause. Use it to pause execution for 2 seconds and print \"Paused execution...\""
   ]
  },
  {
   "cell_type": "code",
   "execution_count": 17,
   "id": "c0dd7992-e367-4d4f-aa71-a2df4dc032ef",
   "metadata": {},
   "outputs": [
    {
     "name": "stdout",
     "output_type": "stream",
     "text": [
      "Waited for 2 seconds...\n"
     ]
    }
   ],
   "source": [
    "from time import sleep as pause\n",
    "\n",
    "# Wait for 2 seconds\n",
    "pause(2)\n",
    "\n",
    "# Display message\n",
    "print(\"Waited for 2 seconds...\")"
   ]
  },
  {
   "cell_type": "markdown",
   "id": "25e3b468-6c6d-44e5-a94f-e076391aa765",
   "metadata": {},
   "source": [
    "### Q- Write a recursive function flatten_list that can flatten a nested list of any depth using *args and **kwargs\n",
    "### Flattening a list means converting a nested list into a single-level list. If the list contains sub-lists, we recursively traverse them and extract their elements to form one flat list"
   ]
  },
  {
   "cell_type": "code",
   "execution_count": 18,
   "id": "0becf9e4-e63a-4ac2-aa3d-bb7ad7f19105",
   "metadata": {},
   "outputs": [
    {
     "name": "stdout",
     "output_type": "stream",
     "text": [
      "[1, 3, 4, 5, 7, 8, 12]\n"
     ]
    }
   ],
   "source": [
    "def flat_lst(nested):\n",
    "    # Initialize empty list\n",
    "    flat = []  \n",
    "    \n",
    "    for itm in nested:  # Loop through items in the nested list\n",
    "        if isinstance(itm, list):  # Check if the item is a list\n",
    "            flat.extend(flat_lst(itm))  # Recursively flatten and extend flat list\n",
    "        else:\n",
    "            flat.append(itm)  # Append item if it's not a list\n",
    "    \n",
    "    # Return the flattened list\n",
    "    return flat  \n",
    "\n",
    "nested = [1, [3, 4], [5, [7, 8]], 12]\n",
    "flat = flat_lst(nested)\n",
    "print(flat)"
   ]
  }
 ],
 "metadata": {
  "kernelspec": {
   "display_name": "Python 3 (ipykernel)",
   "language": "python",
   "name": "python3"
  },
  "language_info": {
   "codemirror_mode": {
    "name": "ipython",
    "version": 3
   },
   "file_extension": ".py",
   "mimetype": "text/x-python",
   "name": "python",
   "nbconvert_exporter": "python",
   "pygments_lexer": "ipython3",
   "version": "3.12.5"
  }
 },
 "nbformat": 4,
 "nbformat_minor": 5
}
